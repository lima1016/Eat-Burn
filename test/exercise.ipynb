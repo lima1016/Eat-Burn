{
 "cells": [
  {
   "cell_type": "code",
   "id": "initial_id",
   "metadata": {
    "collapsed": true,
    "ExecuteTime": {
     "end_time": "2025-02-20T01:39:52.783166Z",
     "start_time": "2025-02-20T01:39:52.775663Z"
    }
   },
   "source": [
    "import dataloaders\n",
    "import pandas as pd\n",
    "import torch\n",
    "\n",
    "# CSV 파일 로드\n",
    "food_data = pd.read_csv(\"/mnt/batch/tasks/shared/LS_root/mounts/clusters/eteam-instance2/code/Users/6b014/250218 한국음식 데이터 합본.csv\")\n",
    "calories_data = pd.read_csv(\"/mnt/batch/tasks/shared/LS_root/mounts/clusters/eteam-instance2/code/Users/6b014/운동데이터_송부.csv\")\n",
    "\n",
    "# 필요한 칼럼만 선택\n",
    "food_data = food_data[['통합_식품명', '1인당Cal']]\n",
    "calories_data = calories_data[['운동이름', '칼로리(1분)', '종류']]\n",
    "\n",
    "# 🚀 사용자가 입력한 음식과 칼로리\n",
    "input_food = \"갓김치\"\n",
    "input_calories = 230  # 사용자가 입력한 섭취 칼로리\n",
    "\n",
    "# 1. 사용자가 입력한 음식의 1인당 칼로리 정보 가져오기\n",
    "food_info = food_data[food_data['통합_식품명'] == input_food]\n",
    "\n",
    "# 2. 음식이 데이터에 존재하는지 확인\n",
    "if food_info.empty:\n",
    "    print(\"❌ 해당 음식이 데이터에 없습니다.\")\n",
    "else:\n",
    "    # 3. 운동 추천: 섭취한 칼로리를 소모할 수 있는 운동 리스트 계산\n",
    "    calories_data['운동시간(분)'] = input_calories / calories_data['칼로리(1분)']\n",
    "\n",
    "    # 4. 운동 추천 리스트 출력\n",
    "    print(f\"✅ '{input_food}' (섭취 칼로리: {input_calories} kcal)을 소모하려면:\")\n",
    "    print(calories_data[['운동이름', '운동시간(분)']].sort_values(by='운동시간(분)').head(5))  # 상위 5개 운동 추천"
   ],
   "outputs": [
    {
     "ename": "ModuleNotFoundError",
     "evalue": "No module named 'dataloaders'",
     "output_type": "error",
     "traceback": [
      "\u001B[1;31m---------------------------------------------------------------------------\u001B[0m",
      "\u001B[1;31mModuleNotFoundError\u001B[0m                       Traceback (most recent call last)",
      "Cell \u001B[1;32mIn[4], line 1\u001B[0m\n\u001B[1;32m----> 1\u001B[0m \u001B[38;5;28;01mimport\u001B[39;00m\u001B[38;5;250m \u001B[39m\u001B[38;5;21;01mdataloaders\u001B[39;00m\n\u001B[0;32m      2\u001B[0m \u001B[38;5;28;01mimport\u001B[39;00m\u001B[38;5;250m \u001B[39m\u001B[38;5;21;01mpandas\u001B[39;00m\u001B[38;5;250m \u001B[39m\u001B[38;5;28;01mas\u001B[39;00m\u001B[38;5;250m \u001B[39m\u001B[38;5;21;01mpd\u001B[39;00m\n\u001B[0;32m      3\u001B[0m \u001B[38;5;28;01mimport\u001B[39;00m\u001B[38;5;250m \u001B[39m\u001B[38;5;21;01mtorch\u001B[39;00m\n",
      "\u001B[1;31mModuleNotFoundError\u001B[0m: No module named 'dataloaders'"
     ]
    }
   ],
   "execution_count": 4
  }
 ],
 "metadata": {
  "kernelspec": {
   "display_name": "Python 3",
   "language": "python",
   "name": "python3"
  },
  "language_info": {
   "codemirror_mode": {
    "name": "ipython",
    "version": 2
   },
   "file_extension": ".py",
   "mimetype": "text/x-python",
   "name": "python",
   "nbconvert_exporter": "python",
   "pygments_lexer": "ipython2",
   "version": "2.7.6"
  }
 },
 "nbformat": 4,
 "nbformat_minor": 5
}
