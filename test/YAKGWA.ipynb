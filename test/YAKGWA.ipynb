{
 "cells": [
  {
   "cell_type": "code",
   "metadata": {
    "ExecuteTime": {
     "end_time": "2025-02-14T07:54:54.306021Z",
     "start_time": "2025-02-14T07:54:51.890377Z"
    }
   },
   "source": [
    "pip install azure-cognitiveservices-vision-customvision"
   ],
   "outputs": [
    {
     "name": "stdout",
     "output_type": "stream",
     "text": [
      "Collecting azure-cognitiveservices-vision-customvision\n",
      "  Obtaining dependency information for azure-cognitiveservices-vision-customvision from https://files.pythonhosted.org/packages/8d/da/a060c57357d0fef46c1f4c75c708eab8f5fe59b14c0151b714131ee8acfa/azure_cognitiveservices_vision_customvision-3.1.1-py2.py3-none-any.whl.metadata\n",
      "  Downloading azure_cognitiveservices_vision_customvision-3.1.1-py2.py3-none-any.whl.metadata (8.5 kB)\n",
      "Requirement already satisfied: msrest>=0.6.21 in c:\\git\\eatburntestproject\\.venv\\lib\\site-packages (from azure-cognitiveservices-vision-customvision) (0.7.1)\n",
      "Collecting azure-common~=1.1 (from azure-cognitiveservices-vision-customvision)\n",
      "  Obtaining dependency information for azure-common~=1.1 from https://files.pythonhosted.org/packages/62/55/7f118b9c1b23ec15ca05d15a578d8207aa1706bc6f7c87218efffbbf875d/azure_common-1.1.28-py2.py3-none-any.whl.metadata\n",
      "  Downloading azure_common-1.1.28-py2.py3-none-any.whl.metadata (5.0 kB)\n",
      "Collecting azure-mgmt-core<2.0.0,>=1.2.0 (from azure-cognitiveservices-vision-customvision)\n",
      "  Obtaining dependency information for azure-mgmt-core<2.0.0,>=1.2.0 from https://files.pythonhosted.org/packages/ab/2d/762b027cfd58b1b2c9b5b60d112615bd04bc33ef85dac55d2ee739641054/azure_mgmt_core-1.5.0-py3-none-any.whl.metadata\n",
      "  Downloading azure_mgmt_core-1.5.0-py3-none-any.whl.metadata (4.3 kB)\n",
      "Requirement already satisfied: azure-core>=1.31.0 in c:\\git\\eatburntestproject\\.venv\\lib\\site-packages (from azure-mgmt-core<2.0.0,>=1.2.0->azure-cognitiveservices-vision-customvision) (1.32.0)\n",
      "Requirement already satisfied: certifi>=2017.4.17 in c:\\git\\eatburntestproject\\.venv\\lib\\site-packages (from msrest>=0.6.21->azure-cognitiveservices-vision-customvision) (2025.1.31)\n",
      "Requirement already satisfied: isodate>=0.6.0 in c:\\git\\eatburntestproject\\.venv\\lib\\site-packages (from msrest>=0.6.21->azure-cognitiveservices-vision-customvision) (0.7.2)\n",
      "Requirement already satisfied: requests-oauthlib>=0.5.0 in c:\\git\\eatburntestproject\\.venv\\lib\\site-packages (from msrest>=0.6.21->azure-cognitiveservices-vision-customvision) (2.0.0)\n",
      "Requirement already satisfied: requests~=2.16 in c:\\git\\eatburntestproject\\.venv\\lib\\site-packages (from msrest>=0.6.21->azure-cognitiveservices-vision-customvision) (2.32.3)\n",
      "Requirement already satisfied: six>=1.11.0 in c:\\git\\eatburntestproject\\.venv\\lib\\site-packages (from azure-core>=1.31.0->azure-mgmt-core<2.0.0,>=1.2.0->azure-cognitiveservices-vision-customvision) (1.17.0)\n",
      "Requirement already satisfied: typing-extensions>=4.6.0 in c:\\git\\eatburntestproject\\.venv\\lib\\site-packages (from azure-core>=1.31.0->azure-mgmt-core<2.0.0,>=1.2.0->azure-cognitiveservices-vision-customvision) (4.12.2)\n",
      "Requirement already satisfied: charset-normalizer<4,>=2 in c:\\git\\eatburntestproject\\.venv\\lib\\site-packages (from requests~=2.16->msrest>=0.6.21->azure-cognitiveservices-vision-customvision) (3.4.1)\n",
      "Requirement already satisfied: idna<4,>=2.5 in c:\\git\\eatburntestproject\\.venv\\lib\\site-packages (from requests~=2.16->msrest>=0.6.21->azure-cognitiveservices-vision-customvision) (3.10)\n",
      "Requirement already satisfied: urllib3<3,>=1.21.1 in c:\\git\\eatburntestproject\\.venv\\lib\\site-packages (from requests~=2.16->msrest>=0.6.21->azure-cognitiveservices-vision-customvision) (2.3.0)\n",
      "Requirement already satisfied: oauthlib>=3.0.0 in c:\\git\\eatburntestproject\\.venv\\lib\\site-packages (from requests-oauthlib>=0.5.0->msrest>=0.6.21->azure-cognitiveservices-vision-customvision) (3.2.2)\n",
      "Downloading azure_cognitiveservices_vision_customvision-3.1.1-py2.py3-none-any.whl (63 kB)\n",
      "   ---------------------------------------- 0.0/63.0 kB ? eta -:--:--\n",
      "   ---------------------------------------- 63.0/63.0 kB 2.0 MB/s eta 0:00:00\n",
      "Downloading azure_common-1.1.28-py2.py3-none-any.whl (14 kB)\n",
      "Downloading azure_mgmt_core-1.5.0-py3-none-any.whl (30 kB)\n",
      "Installing collected packages: azure-common, azure-mgmt-core, azure-cognitiveservices-vision-customvision\n",
      "Successfully installed azure-cognitiveservices-vision-customvision-3.1.1 azure-common-1.1.28 azure-mgmt-core-1.5.0\n",
      "Note: you may need to restart the kernel to use updated packages.\n"
     ]
    },
    {
     "name": "stderr",
     "output_type": "stream",
     "text": [
      "\n",
      "[notice] A new release of pip is available: 23.2.1 -> 25.0.1\n",
      "[notice] To update, run: python.exe -m pip install --upgrade pip\n"
     ]
    }
   ],
   "execution_count": 1
  },
  {
   "cell_type": "code",
   "metadata": {
    "ExecuteTime": {
     "end_time": "2025-02-14T07:56:08.389576Z",
     "start_time": "2025-02-14T07:56:06.758198Z"
    }
   },
   "source": [
    "from azure.cognitiveservices.vision.customvision.training import CustomVisionTrainingClient\n",
    "from azure.cognitiveservices.vision.customvision.training.models import Region\n",
    "from msrest.authentication import ApiKeyCredentials\n",
    "import os\n",
    "\n",
    "# Azure Custom Vision 설정\n",
    "TRAINING_KEY = \"536b9bbd0c6240a2a689a6b740f725db\"         # Azure 포털에서 확인\n",
    "ENDPOINT = \"https://southcentralus.api.cognitive.microsoft.com/\"   # Azure 포털에서 확인\n",
    "PROJECT_ID = \"/subscriptions/b850d62a-25fe-4d3a-9697-ea40449528a9/resourceGroups/6b014cv20250214-1/providers/Microsoft.CognitiveServices/accounts/6b014cv20250214-1\"             # Custom Vision 프로젝트 ID\n",
    "\n",
    "# ApiKeyCredentials로 인증\n",
    "credentials = ApiKeyCredentials(in_headers={\"Training-key\": TRAINING_KEY})\n",
    "trainer = CustomVisionTrainingClient(endpoint=ENDPOINT, credentials=credentials)\n",
    "\n",
    "# 이미지 폴더 경로 (예시)\n",
    "image_folder = r\"C:\\Users\\kimyo\\Downloads\\음식 데이터\\한과\\약과\"\n",
    "\n",
    "# Bounding Box 데이터 (예시)\n",
    "bounding_boxes = {\n",
    "    \"Img_143_0004.jpg\": [(42, 85, 247, 209, \"약과\")],\n",
    "    \"Img_143_0006.jpg\": [(38, 180, 262, 195, \"약과\")],\n",
    "    \"Img_143_0007.jpg\": [(0, 240, 361, 193, \"약과\")],\n",
    "    \"Img_143_0015.jpg\": [(0, 168, 720, 361, \"약과\")],\n",
    "    \"Img_143_0016.jpg\": [(82, 43, 237, 348, \"약과\")],\n",
    "    \"Img_143_0018.jpg\": [(76, 182, 138, 118, \"약과\")],\n",
    "    \"Img_143_0019.jpg\": [(163, 2, 341, 222, \"약과\")],\n",
    "    \"Img_143_0025.jpg\": [(3, 126, 627, 321, \"약과\")],\n",
    "    \"Img_143_0027.jpg\": [(0, 0, 251, 233, \"약과\")],\n",
    "    \"Img_143_0028.jpg\": [(0, 147, 156, 193, \"약과\")]\n",
    "}\n",
    "\n",
    "# width, height 값 설정 (예시)\n",
    "# 실제 이미지 크기에 맞게 수정 필요\n",
    "width, height = 800, 640  \n",
    "\n",
    "# 1. 프로젝트 내 모든 태그 조회\n",
    "existing_tags = trainer.get_tags(PROJECT_ID)\n",
    "\n",
    "# 2. \"약과\" 태그가 이미 있는지 확인\n",
    "yakgwa_tag = None\n",
    "for t in existing_tags:\n",
    "    if t.name == \"약과\":\n",
    "        yakgwa_tag = t\n",
    "        break\n",
    "\n",
    "# 3. \"약과\" 태그가 없으면 생성\n",
    "if yakgwa_tag is None:\n",
    "    yakgwa_tag = trainer.create_tag(PROJECT_ID, \"약과\")\n",
    "    print('\"약과\" 태그가 새로 생성되었습니다.')\n",
    "else:\n",
    "    print('\"약과\" 태그가 이미 존재하므로 재활용합니다.')\n",
    "\n",
    "# 4. 이미지 업로드와 Bounding Box 설정\n",
    "for image_name, boxes in bounding_boxes.items():\n",
    "    image_path = os.path.join(image_folder, image_name)\n",
    "    # 파일이 실제로 존재하는지 확인 (필수는 아니지만 에러 방지를 위해 권장)\n",
    "    if not os.path.exists(image_path):\n",
    "        print(f\"파일을 찾을 수 없습니다: {image_path}\")\n",
    "        continue\n",
    "    \n",
    "    with open(image_path, \"rb\") as image_data:\n",
    "        regions = []\n",
    "        for x, y, w, h, tag_name in boxes:\n",
    "            # 태그: 이미 찾은 yakgwa_tag 사용\n",
    "            regions.append(\n",
    "                Region(\n",
    "                    left=x/width,\n",
    "                    top=y/height,\n",
    "                    width=w/width,\n",
    "                    height=h/height,\n",
    "                    tag_id=yakgwa_tag.id\n",
    "                )\n",
    "            )\n",
    "        # 이미지와 함께 Bounding Box 정보를 서버에 전송\n",
    "        upload_result = trainer.create_images_from_data(PROJECT_ID, image_data, regions=regions)\n",
    "        \n",
    "        # 업로드 결과 확인 (옵션)\n",
    "        if not upload_result.is_batch_successful:\n",
    "            print(f\"{image_name} 업로드 중 오류가 발생했습니다.\")\n",
    "        else:\n",
    "            print(f\"{image_name} 업로드 및 Bounding Box 설정 완료!\")\n",
    "\n",
    "print(\"작업이 완료되었습니다.\")\n"
   ],
   "outputs": [
    {
     "name": "stdout",
     "output_type": "stream",
     "text": [
      "\"약과\" 태그가 이미 존재하므로 재활용합니다.\n",
      "Img_143_0004.jpg 업로드 중 오류가 발생했습니다.\n",
      "Img_143_0006.jpg 업로드 중 오류가 발생했습니다.\n",
      "Img_143_0007.jpg 업로드 중 오류가 발생했습니다.\n",
      "Img_143_0015.jpg 업로드 중 오류가 발생했습니다.\n",
      "Img_143_0016.jpg 업로드 중 오류가 발생했습니다.\n",
      "Img_143_0018.jpg 업로드 중 오류가 발생했습니다.\n",
      "Img_143_0019.jpg 업로드 중 오류가 발생했습니다.\n",
      "Img_143_0025.jpg 업로드 중 오류가 발생했습니다.\n",
      "Img_143_0027.jpg 업로드 중 오류가 발생했습니다.\n",
      "Img_143_0028.jpg 업로드 중 오류가 발생했습니다.\n",
      "작업이 완료되었습니다.\n"
     ]
    }
   ],
   "execution_count": 3
  }
 ],
 "metadata": {
  "kernelspec": {
   "display_name": "Python 3",
   "language": "python",
   "name": "python3"
  },
  "language_info": {
   "codemirror_mode": {
    "name": "ipython",
    "version": 3
   },
   "file_extension": ".py",
   "mimetype": "text/x-python",
   "name": "python",
   "nbconvert_exporter": "python",
   "pygments_lexer": "ipython3",
   "version": "3.10.6"
  }
 },
 "nbformat": 4,
 "nbformat_minor": 2
}
